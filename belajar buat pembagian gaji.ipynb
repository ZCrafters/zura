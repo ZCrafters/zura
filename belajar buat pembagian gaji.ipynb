{
 "cells": [
  {
   "cell_type": "code",
   "execution_count": 3,
   "metadata": {},
   "outputs": [
    {
     "name": "stdout",
     "output_type": "stream",
     "text": [
      "anne \"dari golongan \" 2, \"mendapatkan upah bersih senilai\" 5000000.0\n",
      "dimas \"dari golongan \" 3, \"mendapatkan upah bersih senilai\" 5400000.0\n",
      "sriyono \"dari golongan \" 1, \"mendapatkan upah bersih senilai\" 4440000.0\n",
      "okyun \"dari golongan \" 2, \"mendapatkan upah bersih senilai\" 4840000.0\n",
      "wati \"dari golongan \" 1, \"mendapatkan upah bersih senilai\" 4680000.0\n",
      "yayan \"dari golongan \" 3, \"mendapatkan upah bersih senilai\" 5560000.0\n"
     ]
    }
   ],
   "source": [
    "karyawan = ['anne', 'dimas', 'sriyono', 'okyun', 'wati', 'yayan']\n",
    "golongan = [2, 3, 1, 2, 1, 3]\n",
    "overtime = [10, 15, 3, 8, 6, 17]\n",
    "\n",
    "def golongan_pembagian_gaji(Golongan):\n",
    "    if golongan == 1:\n",
    "        gaji_pokok = 15000000\n",
    "    elif golongan == 2:\n",
    "        gaji_pokok = 7500000\n",
    "    else:\n",
    "        gaji_pokok = 5000000\n",
    "    \n",
    "    return gaji_pokok\n",
    "    \n",
    "def tunjangan_pembagian_(Golongan):\n",
    "    if golongan == 1:\n",
    "        tunjangan = 0.15\n",
    "    elif golongan == 2:\n",
    "        tunjangan = 0.10\n",
    "    else:\n",
    "        tunjangan = 0.05\n",
    "        \n",
    "    return tunjangan\n",
    "\n",
    "def upah_overtime_pembagian_(Golongan):\n",
    "    if golongan == 1:\n",
    "        upah_overtime = 0\n",
    "    elif golongan == 2:\n",
    "        upah_overtime = 150000\n",
    "    else:\n",
    "        upah_overtime = 100000\n",
    "        \n",
    "    return upah_overtime\n",
    "\n",
    "for maomao in range(0, len(karyawan)):\n",
    "    Gaji = golongan_pembagian_gaji(maomao)\n",
    "    Total_Tunjangan = Gaji*tunjangan_pembagian_(maomao)\n",
    "    Total_Upah_Overtime = upah_overtime_pembagian_(maomao)*overtime[maomao]\n",
    "    Upah_Kotor = Gaji + Total_Tunjangan + Total_Upah_Overtime\n",
    "    Upah_Bersih = Upah_Kotor - Upah_Kotor*0.2\n",
    "    \n",
    "    print(f'{karyawan[maomao]} \"dari golongan \" {golongan[maomao]}, \"mendapatkan upah bersih senilai\" {Upah_Bersih}')"
   ]
  },
  {
   "cell_type": "code",
   "execution_count": 1,
   "metadata": {},
   "outputs": [],
   "source": [
    "import numpy as np"
   ]
  },
  {
   "cell_type": "code",
   "execution_count": 4,
   "metadata": {},
   "outputs": [
    {
     "name": "stdout",
     "output_type": "stream",
     "text": [
      "[4, 8, 12, 16, 20, 24, 28]\n"
     ]
    }
   ],
   "source": [
    "Ultah = 4\n",
    "multiple_list = list(filter(lambda x: x % Ultah == 0, range(1, 31)))\n",
    "print(multiple_list)"
   ]
  }
 ],
 "metadata": {
  "kernelspec": {
   "display_name": "Python 3",
   "language": "python",
   "name": "python3"
  },
  "language_info": {
   "codemirror_mode": {
    "name": "ipython",
    "version": 3
   },
   "file_extension": ".py",
   "mimetype": "text/x-python",
   "name": "python",
   "nbconvert_exporter": "python",
   "pygments_lexer": "ipython3",
   "version": "3.12.0"
  }
 },
 "nbformat": 4,
 "nbformat_minor": 2
}

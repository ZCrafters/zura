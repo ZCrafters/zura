{
 "cells": [
  {
   "cell_type": "code",
   "execution_count": null,
   "metadata": {},
   "outputs": [],
   "source": [
    "class mahasiswa\n",
    "    nama_univ = ' cyberuniversity'\n",
    "    \n",
    "    def __init__(self, nama , nim , prodi, jenis kelamin):\n",
    "        self.nama = nama\n",
    "        self.nim = nim\n",
    "        self.prodi = prodi\n",
    "        self.jenis_kelamin = jenis kelamin\n",
    "    \n",
    "    def PembayaranUKT(self) :\n",
    "        print(self.nama, 'bisa mengikutin perkuliahan di' , self.nama_univ)\n",
    "        "
   ]
  },
  {
   "cell_type": "code",
   "execution_count": 37,
   "metadata": {},
   "outputs": [],
   "source": [
    "class kucing:\n",
    "    def __init__(self, nama, jenis_kelamin, ras, umur, warna):\n",
    "        self.nama = nama\n",
    "        self.jenis_kelamin = jenis_kelamin\n",
    "        self.ras = ras\n",
    "        self.umur = umur\n",
    "        self.warna = warna\n",
    "        \n",
    "    def get_info_kucing(self):\n",
    "        return self.nama, self.jenis_kelamin, self.ras, self.umur, self.warna\n",
    "\n",
    "    def set_info_kucing(self, nama, jenis_kelamin, ras, umur, warna):\n",
    "        self.nama = nama\n",
    "        self.jenis_kelamin = jenis_kelamin\n",
    "        self.ras = ras\n",
    "        self.umur = umur\n",
    "        self.warna = warna\n",
    "        \n",
    "    def bersuara (self):\n",
    "        print(f'{self.nama} bersuara \"meow\"')\n",
    "    def tidur(self):\n",
    "        print(f'{self.nama} sedang tidur')"
   ]
  },
  {
   "cell_type": "code",
   "execution_count": 38,
   "metadata": {},
   "outputs": [],
   "source": [
    "icha = kucing('Icha', 'betina', 'anggora', '2', 'kelabu')"
   ]
  },
  {
   "cell_type": "code",
   "execution_count": 36,
   "metadata": {},
   "outputs": [
    {
     "name": "stdout",
     "output_type": "stream",
     "text": [
      "icha adalah seekor anggora berumur 2 tahun, berjenis kelaming betina, dan memiliki bulu berwarna kelabu.\n"
     ]
    }
   ],
   "source": [
    "icha = kucing()\n",
    "icha.nama = 'icha'\n",
    "icha.ras = 'anggora'\n",
    "icha.umur = '2'\n",
    "icha.jenis_kelamin = 'betina'\n",
    "icha.warna = 'kelabu'\n",
    "\n",
    "print(f\"\"\"{icha.nama} adalah seekor {icha.ras} berumur {icha.umur} tahun, berjenis kelaming {icha.jenis_kelamin}, dan memiliki bulu berwarna {icha.warna}.\"\"\")"
   ]
  },
  {
   "cell_type": "code",
   "execution_count": 39,
   "metadata": {},
   "outputs": [
    {
     "name": "stdout",
     "output_type": "stream",
     "text": [
      "Icha adalah seekor anggora berumur 2 tahun, berjenis kelaming betina, dan memiliki bulu berwarna kelabu.\n"
     ]
    }
   ],
   "source": [
    "print(f\"\"\"{icha.nama} adalah seekor {icha.ras} berumur {icha.umur} tahun, berjenis kelaming {icha.jenis_kelamin}, dan memiliki bulu berwarna {icha.warna}.\"\"\")"
   ]
  },
  {
   "cell_type": "code",
   "execution_count": 40,
   "metadata": {},
   "outputs": [
    {
     "name": "stdout",
     "output_type": "stream",
     "text": [
      "('Icha', 'betina', 'naga', 5.5, 'golden')\n"
     ]
    }
   ],
   "source": [
    "icha.set_info_kucing('Icha', 'betina', 'naga', 5.5,'golden')\n",
    "print (icha.get_info_kucing())"
   ]
  },
  {
   "cell_type": "code",
   "execution_count": 41,
   "metadata": {},
   "outputs": [
    {
     "name": "stdout",
     "output_type": "stream",
     "text": [
      "Icha bersuara \"meow\"\n",
      "Icha sedang tidur\n"
     ]
    }
   ],
   "source": [
    "icha.bersuara()\n",
    "icha.tidur()"
   ]
  },
  {
   "cell_type": "code",
   "execution_count": 42,
   "metadata": {},
   "outputs": [
    {
     "name": "stdout",
     "output_type": "stream",
     "text": [
      "Icha adalah seekor naga berumur 5.5 tahun, berjenis kelaming betina, dan memiliki bulu berwarna golden.\n"
     ]
    }
   ],
   "source": [
    "nama, gender, ras, age, color = icha.get_info_kucing()\n",
    "\n",
    "print(f\"\"\"{nama} adalah seekor {ras} berumur {age} tahun, berjenis kelaming {gender}, dan memiliki bulu berwarna {color}.\"\"\")"
   ]
  },
  {
   "cell_type": "code",
   "execution_count": 72,
   "metadata": {},
   "outputs": [],
   "source": [
    "# parent class\n",
    "class orang:\n",
    "    nama = ''\n",
    "    jenkel = ''\n",
    "    alamat = ''\n",
    "    def get_info(self): \n",
    "        return self.nama, self.jenkel, self.alamat\n",
    "\n",
    "#child class 1\n",
    "class dosen(orang):\n",
    "    nidn = ''\n",
    "    def input_nilai (self, nilai):\n",
    "        return nilai\n",
    "\n",
    "# child class 2\n",
    "class mahasiswa (orang):\n",
    "    nim = ''\n",
    "    nilai = 0\n",
    "    def set_nilai (self, nilai): \n",
    "        self.nilai = int(nilai)\n",
    "    def get_nilai(self): \n",
    "        return self.nilai"
   ]
  },
  {
   "cell_type": "code",
   "execution_count": 73,
   "metadata": {},
   "outputs": [],
   "source": [
    "#membuat object class dosen dan instantiation\n",
    "zee = dosen()\n",
    "zee.nama = 'zee'\n",
    "zee.jenkel = 'Pria'\n",
    "zee.alamat = 'Bandung'\n",
    "zee.nidn = '202781'\n",
    "\n",
    "# membuat object class mahasiswa dan instantiation\n",
    "kentang = mahasiswa()\n",
    "kentang.nama = 'kentang'\n",
    "kentang.jenkel = 'Wanita'\n",
    "kentang.alamat = 'Bogor'\n",
    "kentang.nidn = '02017470000'"
   ]
  },
  {
   "cell_type": "code",
   "execution_count": 74,
   "metadata": {},
   "outputs": [
    {
     "name": "stdout",
     "output_type": "stream",
     "text": [
      "('zee', 'Pria', 'Bandung')\n",
      "('kentang', 'Wanita', 'Bogor')\n"
     ]
    }
   ],
   "source": [
    "print(zee.get_info())\n",
    "print(kentang.get_info())"
   ]
  },
  {
   "cell_type": "code",
   "execution_count": 56,
   "metadata": {},
   "outputs": [
    {
     "data": {
      "text/plain": [
       "100"
      ]
     },
     "execution_count": 56,
     "metadata": {},
     "output_type": "execute_result"
    }
   ],
   "source": [
    "# Wibowo memberikan nilai pada Anita\n",
    "anita.set_nilai (wibowo.input_nilai(100))\n",
    "# Anita melihat nilai\n",
    "anita.get_nilai()"
   ]
  },
  {
   "cell_type": "code",
   "execution_count": 59,
   "metadata": {},
   "outputs": [],
   "source": [
    "# parent class\n",
    "class bangun_datar:\n",
    "    luas = 0\n",
    "    def hitung_luas (self): \n",
    "        print('Hitung Luas Bangun Datar')\n",
    "    def get_luas (self): \n",
    "        return self.luas\n",
    "#child class 1\n",
    "class persegi (bangun_datar):\n",
    "    def __init__(self, sisi): \n",
    "        self.sisi = sisi\n",
    "    def hitung_luas(self): \n",
    "        self.luas = self.sisi * self.sisi\n",
    "        \n",
    "#child class 2\n",
    "class lingkaran (bangun_datar):\n",
    "    def __init__(self, jari2): self.jari2= jari2    \n",
    "    def hitung_luas(self):\n",
    "        self.luas = 3.14 *self.jari2**2  "
   ]
  },
  {
   "cell_type": "code",
   "execution_count": 60,
   "metadata": {},
   "outputs": [
    {
     "name": "stdout",
     "output_type": "stream",
     "text": [
      "Hitung Luas Bangun Datar\n"
     ]
    },
    {
     "data": {
      "text/plain": [
       "0"
      ]
     },
     "execution_count": 60,
     "metadata": {},
     "output_type": "execute_result"
    }
   ],
   "source": [
    "tes = bangun_datar()\n",
    "tes.hitung_luas()\n",
    "tes.get_luas()"
   ]
  },
  {
   "cell_type": "code",
   "execution_count": 64,
   "metadata": {},
   "outputs": [
    {
     "data": {
      "text/plain": [
       "256"
      ]
     },
     "execution_count": 64,
     "metadata": {},
     "output_type": "execute_result"
    }
   ],
   "source": [
    "P1 = persegi (16)\n",
    "P1.hitung_luas()\n",
    "P1.get_luas()"
   ]
  },
  {
   "cell_type": "code",
   "execution_count": 63,
   "metadata": {},
   "outputs": [
    {
     "data": {
      "text/plain": [
       "907.46"
      ]
     },
     "execution_count": 63,
     "metadata": {},
     "output_type": "execute_result"
    }
   ],
   "source": [
    "L1 = lingkaran (17)\n",
    "L1.hitung_luas()\n",
    "L1.get_luas()"
   ]
  }
 ],
 "metadata": {
  "kernelspec": {
   "display_name": "Python 3",
   "language": "python",
   "name": "python3"
  },
  "language_info": {
   "codemirror_mode": {
    "name": "ipython",
    "version": 3
   },
   "file_extension": ".py",
   "mimetype": "text/x-python",
   "name": "python",
   "nbconvert_exporter": "python",
   "pygments_lexer": "ipython3",
   "version": "3.12.0"
  }
 },
 "nbformat": 4,
 "nbformat_minor": 2
}

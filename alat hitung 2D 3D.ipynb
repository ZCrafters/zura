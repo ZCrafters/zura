{
 "cells": [
  {
   "cell_type": "markdown",
   "metadata": {},
   "source": [
    "\n",
    "(\"--------------------------------------------------------------------3D--------------------------------------------------------------------\")"
   ]
  },
  {
   "cell_type": "code",
   "execution_count": 2,
   "metadata": {},
   "outputs": [
    {
     "name": "stdout",
     "output_type": "stream",
     "text": [
      "menghitung luas dan volume kubus\n",
      "\n",
      "Luas kubus \t 2160000\n",
      "\n",
      "Volume kubus \t 216000000\n"
     ]
    }
   ],
   "source": [
    "#kubus\n",
    "\n",
    "print('menghitung luas dan volume kubus')\n",
    "s = float(input('/nMasukan nilai sisi = '))\n",
    "\n",
    "luas = 6*(s*s)\n",
    "Volume =  s*s*s \n",
    "\n",
    "print('\\nLuas kubus \\t', int(luas))\n",
    "print('\\nVolume kubus \\t', int(Volume))"
   ]
  },
  {
   "cell_type": "code",
   "execution_count": 7,
   "metadata": {},
   "outputs": [
    {
     "name": "stdout",
     "output_type": "stream",
     "text": [
      "\n",
      "Luas kentang \t 150\n"
     ]
    }
   ],
   "source": [
    "mtk_kentang = float(5)\n",
    "luas = 6*(mtk_kentang*mtk_kentang)\n",
    "print('\\nLuas kentang \\t', round(luas))"
   ]
  },
  {
   "cell_type": "code",
   "execution_count": 32,
   "metadata": {},
   "outputs": [
    {
     "name": "stdout",
     "output_type": "stream",
     "text": [
      "menghitung luas dan volume bola\n",
      "\n",
      "Luas bola \t: 314.0\n",
      "\n",
      "volume volume \t: 523\n"
     ]
    }
   ],
   "source": [
    "#bola\n",
    "\n",
    "print('menghitung luas dan volume bola')\n",
    "r = float(input())\n",
    "\n",
    "pi = 3.14\n",
    "luas = 4*pi*r*r \n",
    "volume = 4/3*pi*r*r*r\n",
    "\n",
    "print('\\nLuas bola \\t:', float(luas))\n",
    "print('\\nvolume volume \\t:',round(volume))"
   ]
  },
  {
   "cell_type": "code",
   "execution_count": 14,
   "metadata": {},
   "outputs": [
    {
     "name": "stdout",
     "output_type": "stream",
     "text": [
      "menghitung luas dan persegi panjang\n",
      "\n",
      "Luas pesergi \t: 628\n",
      "\n",
      "volume pesergi \t: 1040\n"
     ]
    }
   ],
   "source": [
    "#balok\n",
    "\n",
    "print('menghitung luas dan persegi panjang')\n",
    "t = float(input())\n",
    "l = float(input())\n",
    "p = float(input())\n",
    "\n",
    "luas = 2*(p*l + p*t + l*t)\n",
    "volume = p*t*l\n",
    "\n",
    "print('\\nLuas pesergi \\t:', int(luas))\n",
    "print('\\nvolume pesergi \\t:', int(volume))"
   ]
  },
  {
   "cell_type": "code",
   "execution_count": 1,
   "metadata": {},
   "outputs": [
    {
     "name": "stdout",
     "output_type": "stream",
     "text": [
      "menghitung luas dan volume prisma\n",
      "\n",
      "Luas prisma \t: 100\n",
      "\n",
      "Volume prisma \t: 80\n"
     ]
    }
   ],
   "source": [
    "#prisma\n",
    "\n",
    "print('menghitung luas dan volume prisma')\n",
    "a = float(input()) #alas\n",
    "Ka = float(input()) #keliling alas\n",
    "t = float(input()) #tinggi\n",
    "la = float(input()) #luas alas\n",
    "\n",
    "luas = 2*la+Ka*t\n",
    "volume = la*t\n",
    "\n",
    "print('\\nLuas prisma \\t:', int(luas))\n",
    "print('\\nVolume prisma \\t:', int(volume))"
   ]
  },
  {
   "cell_type": "code",
   "execution_count": 23,
   "metadata": {},
   "outputs": [
    {
     "name": "stdout",
     "output_type": "stream",
     "text": [
      "menghitung luas dan volume limas\n",
      "Luas Limas   =   424\n",
      "Volume Limas =  480\n"
     ]
    }
   ],
   "source": [
    "#limas\n",
    "import math\n",
    "\n",
    "print('menghitung luas dan volume limas')\n",
    "\n",
    "t=int(input())\n",
    "s=int(input())\n",
    "\n",
    "SM = math.sqrt((s*0.5)*(s*0.5)+(t*t))\n",
    "Segitiga = 0.5*s*SM\n",
    "\n",
    "Luas = (s*s) + (4*Segitiga)\n",
    "Volume = (1/3) * (s*s) * t\n",
    "\n",
    "print (\"Luas Limas   =  \", round(Luas))\n",
    "print (\"Volume Limas = \", round(Volume))"
   ]
  },
  {
   "cell_type": "code",
   "execution_count": 30,
   "metadata": {},
   "outputs": [
    {
     "name": "stdout",
     "output_type": "stream",
     "text": [
      "menghitung luas dan volume tabung\n",
      "\n",
      "Luas tabung \t: 439.6\n",
      "\n",
      "Volume tabung \t: 706.5\n"
     ]
    }
   ],
   "source": [
    "#tabung\n",
    "\n",
    "print('menghitung luas dan volume tabung')\n",
    "r = float(input())\n",
    "t = float(input())\n",
    "\n",
    "pi =3.14\n",
    "Luas = 2*pi*r*(t+r)\n",
    "Volume = pi*r*r*t\n",
    "\n",
    "print('\\nLuas tabung \\t:', float(Luas))\n",
    "\n",
    "print('\\nVolume tabung \\t:', float(Volume))"
   ]
  },
  {
   "cell_type": "code",
   "execution_count": 2,
   "metadata": {},
   "outputs": [
    {
     "name": "stdout",
     "output_type": "stream",
     "text": [
      "menghitung luas dan volume krucut\n",
      "\n",
      "Luas krucut \t: 3297.0\n",
      "\n",
      "Volume krucut \t: 14130\n"
     ]
    }
   ],
   "source": [
    "#krucut\n",
    "\n",
    "print('menghitung luas dan volume krucut')\n",
    "r = float(input())\n",
    "t = float(input())\n",
    "\n",
    "pi =3.14\n",
    "Luas = 2*pi*r*(t+r)\n",
    "Volume = pi*r*r*t\n",
    "\n",
    "print('\\nLuas krucut \\t:', float(Luas))\n",
    "print('\\nVolume krucut \\t:', round(Volume))"
   ]
  },
  {
   "cell_type": "markdown",
   "metadata": {},
   "source": [
    "(\"--------------------------------------------------------------------2d--------------------------------------------------------------------\")"
   ]
  },
  {
   "cell_type": "code",
   "execution_count": 4,
   "metadata": {},
   "outputs": [
    {
     "name": "stdout",
     "output_type": "stream",
     "text": [
      "menghitung luas dan volume persegi\n",
      "\n",
      "Luas persegi \t\t: 225.0\n",
      "\n",
      "Keliling persegi \t: 60.0\n"
     ]
    }
   ],
   "source": [
    "#persegi\n",
    "\n",
    "print('menghitung luas dan volume persegi')\n",
    "s = float(input())\n",
    "\n",
    "Luas = s*s\n",
    "keliling = 4*s\n",
    "\n",
    "print('\\nLuas persegi \\t\\t:', float(Luas))\n",
    "print('\\nKeliling persegi \\t:', float(keliling))\n",
    "\n"
   ]
  },
  {
   "cell_type": "code",
   "execution_count": 6,
   "metadata": {},
   "outputs": [
    {
     "name": "stdout",
     "output_type": "stream",
     "text": [
      "menghitung luas dan volume persegi panjang\n",
      "\n",
      "Luas persegi panjang \t\t: 690.0\n",
      "\n",
      "keliling persegi panjang \t: 244.0\n"
     ]
    }
   ],
   "source": [
    "#persegi panjang\n",
    "\n",
    "print('menghitung luas dan volume persegi panjang')\n",
    "p = float(input())\n",
    "l = float(input())\n",
    "\n",
    "Luas = p*l\n",
    "keliling = 4*(p+l)\n",
    "\n",
    "print('\\nLuas persegi panjang \\t\\t:', float(Luas))\n",
    "print('\\nkeliling persegi panjang \\t:', float(keliling))"
   ]
  },
  {
   "cell_type": "code",
   "execution_count": 8,
   "metadata": {},
   "outputs": [
    {
     "name": "stdout",
     "output_type": "stream",
     "text": [
      "menghitung luas dan volume jajar genjang\n",
      "\n",
      "Luas jajar genjang \t\t: 32.0\n",
      "\n",
      "keliling jajar genjang \t\t: 140.0\n"
     ]
    }
   ],
   "source": [
    "#jajar genjang\n",
    "\n",
    "print('menghitung luas dan volume jajar genjang')\n",
    "a = float(input())\n",
    "s = float(input())\n",
    "t = float(input())\n",
    "\n",
    "Luas = a*t\n",
    "keliling = 2*(a+s)\n",
    "\n",
    "print('\\nLuas jajar genjang \\t\\t:', float(Luas))\n",
    "print('\\nkeliling jajar genjang \\t\\t:', float(keliling))"
   ]
  },
  {
   "cell_type": "code",
   "execution_count": 9,
   "metadata": {},
   "outputs": [
    {
     "name": "stdout",
     "output_type": "stream",
     "text": [
      "menghitung luas dan volume trapesium\n",
      "\n",
      "Luas trapesium \t\t: 54.0\n",
      "\n",
      "keliling trapesium \t\t: 18.0\n"
     ]
    }
   ],
   "source": [
    "#trapesium\n",
    "\n",
    "print('menghitung luas dan volume trapesium')\n",
    "a = float(input())\n",
    "b = float(input())\n",
    "t = float(input())\n",
    "\n",
    "Luas = 1/2*(a+b)*t\n",
    "keliling = (a+b)*2\n",
    "\n",
    "print('\\nLuas trapesium \\t\\t:', float(Luas))\n",
    "print('\\nkeliling trapesium \\t:', float(keliling))"
   ]
  },
  {
   "cell_type": "code",
   "execution_count": 10,
   "metadata": {},
   "outputs": [
    {
     "name": "stdout",
     "output_type": "stream",
     "text": [
      "menghitung luas dan volume layang layang\n",
      "\n",
      "Luas layang layang \t\t: 52.5\n",
      "\n",
      "keliling layang layang \t: 48.0\n"
     ]
    }
   ],
   "source": [
    "#layang layang\n",
    "\n",
    "print('menghitung luas dan volume layang layang')\n",
    "d1 = float(input())\n",
    "d2 = float(input())\n",
    "a = float(input())\n",
    "b = float(input())\n",
    "\n",
    "Luas = 1/2*d1+d2\n",
    "keliling = 2*(a+b)\n",
    "\n",
    "print('\\nLuas layang layang \\t:', float(Luas))\n",
    "print('\\nkeliling layang layang \\t:', float(keliling))"
   ]
  },
  {
   "cell_type": "code",
   "execution_count": null,
   "metadata": {},
   "outputs": [],
   "source": [
    "#belah ketupat\n",
    "\n",
    "print('menghitung luas dan volume belah ketupat')\n",
    "d1 = float(input())\n",
    "d2 = float(input())\n",
    "s = float(input())\n",
    "\n",
    "Luas = 1/2*d1+d2\n",
    "keliling = 4*s\n",
    "\n",
    "print('\\nLuas belah ketupat \\t\\t:', float(Luas))\n",
    "print('\\nKeliling belah ketupat \\t:', float(keliling))"
   ]
  },
  {
   "cell_type": "code",
   "execution_count": null,
   "metadata": {},
   "outputs": [],
   "source": [
    "#segitiga\n",
    "\n",
    "print('menghitung luas dan volume segitiga')\n",
    "t = float(input())\n",
    "a = float(input())\n",
    "b = float(input())\n",
    "c = float(input())\n",
    "\n",
    "Luas = 1/2*a*t\n",
    "keliling = a+b+c\n",
    "\n",
    "print('\\nLuas segitiga \\t\\t:', float(Luas))\n",
    "print('\\nKeliling segitiga \\t:', float(keliling))"
   ]
  },
  {
   "cell_type": "code",
   "execution_count": 16,
   "metadata": {},
   "outputs": [
    {
     "name": "stdout",
     "output_type": "stream",
     "text": [
      "menghitung luas dan volume lingkaran\n",
      "\n",
      "Luas lingkaran \t\t: 12.56\n",
      "\n",
      "Keliling lingkaran \t: 13\n"
     ]
    }
   ],
   "source": [
    "#lingkaran\n",
    "\n",
    "print('menghitung luas dan volume lingkaran')\n",
    "r = float(input())\n",
    "\n",
    "phi = 3.14\n",
    "Luas = phi*r*r\n",
    "keliling = 2*phi*r\n",
    "\n",
    "print('\\nLuas lingkaran \\t\\t:', float(Luas))\n",
    "print('\\nKeliling lingkaran \\t:', round(keliling))"
   ]
  }
 ],
 "metadata": {
  "kernelspec": {
   "display_name": "Python 3",
   "language": "python",
   "name": "python3"
  },
  "language_info": {
   "codemirror_mode": {
    "name": "ipython",
    "version": 3
   },
   "file_extension": ".py",
   "mimetype": "text/x-python",
   "name": "python",
   "nbconvert_exporter": "python",
   "pygments_lexer": "ipython3",
   "version": "3.12.0"
  }
 },
 "nbformat": 4,
 "nbformat_minor": 2
}

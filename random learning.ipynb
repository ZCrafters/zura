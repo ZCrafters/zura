{
 "cells": [
  {
   "cell_type": "code",
   "execution_count": 1,
   "metadata": {},
   "outputs": [
    {
     "name": "stdout",
     "output_type": "stream",
     "text": [
      "gekki!\n"
     ]
    }
   ],
   "source": [
    "print ('gekki!')"
   ]
  },
  {
   "cell_type": "code",
   "execution_count": 2,
   "metadata": {},
   "outputs": [
    {
     "name": "stdout",
     "output_type": "stream",
     "text": [
      "5\n"
     ]
    }
   ],
   "source": [
    "data = 5\n",
    "print(data)"
   ]
  },
  {
   "cell_type": "code",
   "execution_count": 8,
   "metadata": {},
   "outputs": [
    {
     "name": "stdout",
     "output_type": "stream",
     "text": [
      "{'nama': 'eddie', 'jenis': 'kucing', 'warna': 'silver', 'umur': '1.5', 'jenis_kelaming': 0, 'vaksin': False}\n",
      "{'nama_kelas': 'titan', 'jumlah_murid': 15, 'nama': ('rusef', 'king', 'rudolf', 'azura', 'budiman', 'venom'), 'umur': [90.5, 55.1, 80.0, 100, 67.7, 75.7], 'lulus': (True, False, True, True, False, False)}\n",
      "{'apel': 10, 'mangga': 5, 'jeruk': 15, 'pisang': 6, 'manggis': 21}\n"
     ]
    },
    {
     "data": {
      "text/plain": [
       "dict"
      ]
     },
     "execution_count": 8,
     "metadata": {},
     "output_type": "execute_result"
    }
   ],
   "source": [
    "myPet = {'nama':'eddie',\n",
    "         'jenis':'kucing',\n",
    "         'warna':'silver',\n",
    "         'umur': '1.5',\n",
    "         'jenis_kelaming':0,\n",
    "         'vaksin':False}\n",
    "\n",
    "kelas = {'nama_kelas':'titan',\n",
    "         'jumlah_murid':15,\n",
    "         'nama':('rusef','king','rudolf','azura','budiman','venom'),\n",
    "         'umur':[90.5, 55.1, 80.0, 100, 67.7, 75.7 ],\n",
    "         'lulus':(True, False, True, True, False, False)}\n",
    "       \n",
    "\n",
    "buah = ['apel','mangga','jeruk','pisang','manggis']\n",
    "jumlah = [10, 5, 15, 6, 21]\n",
    "\n",
    "gudang = dict(zip(buah,jumlah))\n",
    "\n",
    "print(myPet)\n",
    "type(myPet)\n",
    "\n",
    "print(kelas)\n",
    "type(kelas)\n",
    "\n",
    "print(gudang)\n",
    "type(gudang)\n"
   ]
  },
  {
   "cell_type": "code",
   "execution_count": 11,
   "metadata": {},
   "outputs": [
    {
     "ename": "AttributeError",
     "evalue": "'dict' object has no attribute 'key'",
     "output_type": "error",
     "traceback": [
      "\u001b[1;31m---------------------------------------------------------------------------\u001b[0m",
      "\u001b[1;31mAttributeError\u001b[0m                            Traceback (most recent call last)",
      "Cell \u001b[1;32mIn[11], line 1\u001b[0m\n\u001b[1;32m----> 1\u001b[0m \u001b[43mgudang\u001b[49m\u001b[38;5;241;43m.\u001b[39;49m\u001b[43mkey\u001b[49m(gudang)\n",
      "\u001b[1;31mAttributeError\u001b[0m: 'dict' object has no attribute 'key'"
     ]
    }
   ],
   "source": [
    "gudang.key()\n",
    "gudang.values()\n",
    "gudang.items()"
   ]
  },
  {
   "cell_type": "code",
   "execution_count": 17,
   "metadata": {},
   "outputs": [
    {
     "name": "stdout",
     "output_type": "stream",
     "text": [
      "{'apel': 10, 'mangga': 5, 'jeruk': 15, 'pisang': 6, 'manggis': 21}\n",
      "jumlah apel  = 10\n",
      "jumlah mangga = 5\n",
      "jumlah jeruk = 15\n",
      "jumlah pisang = 6\n",
      "jumlah manggis = 21\n"
     ]
    }
   ],
   "source": [
    "print(gudang)\n",
    "\n",
    "print('jumlah apel  =', gudang['apel'])\n",
    "print('jumlah mangga =', gudang['mangga'])\n",
    "print('jumlah jeruk =', gudang['jeruk'])\n",
    "print('jumlah pisang =', gudang['pisang'])\n",
    "print('jumlah manggis =', gudang['manggis'])"
   ]
  },
  {
   "cell_type": "code",
   "execution_count": 18,
   "metadata": {},
   "outputs": [
    {
     "name": "stdout",
     "output_type": "stream",
     "text": [
      "{'apel': 10, 'mangga': 5, 'jeruk': 15, 'pisang': 6, 'manggis': 21}\n",
      "{'apel': 100, 'mangga': 150, 'jeruk': 71, 'pisang': 105, 'manggis': 50}\n"
     ]
    }
   ],
   "source": [
    "print(gudang)\n",
    "\n",
    "gudang['apel'] = 100\n",
    "\n",
    "gudang['mangga'] = 150\n",
    "\n",
    "gudang['pisang'] = 105\n",
    "\n",
    "gudang['manggis'] = 50\n",
    "\n",
    "gudang['jeruk'] = 71\n",
    "\n",
    "print(gudang)"
   ]
  },
  {
   "cell_type": "code",
   "execution_count": 25,
   "metadata": {},
   "outputs": [
    {
     "name": "stdout",
     "output_type": "stream",
     "text": [
      "{'apel': 100, 'mangga': 150, 'jeruk': 71, 'pisang': 105, 'manggis': 50}\n",
      "jumlah apel = 100\n",
      "jumlah mangga = 150\n",
      "jumlah jeruk = 71\n",
      "jumlah pisang = 105\n",
      "jumlah manggis = 50\n"
     ]
    },
    {
     "ename": "KeyError",
     "evalue": "slice('apel', 'pisang', None)",
     "output_type": "error",
     "traceback": [
      "\u001b[1;31m---------------------------------------------------------------------------\u001b[0m",
      "\u001b[1;31mKeyError\u001b[0m                                  Traceback (most recent call last)",
      "Cell \u001b[1;32mIn[25], line 9\u001b[0m\n\u001b[0;32m      6\u001b[0m \u001b[38;5;28mprint\u001b[39m(\u001b[38;5;124m'\u001b[39m\u001b[38;5;124mjumlah pisang =\u001b[39m\u001b[38;5;124m'\u001b[39m, gudang\u001b[38;5;241m.\u001b[39mget(\u001b[38;5;124m'\u001b[39m\u001b[38;5;124mpisang\u001b[39m\u001b[38;5;124m'\u001b[39m))\n\u001b[0;32m      7\u001b[0m \u001b[38;5;28mprint\u001b[39m(\u001b[38;5;124m'\u001b[39m\u001b[38;5;124mjumlah manggis =\u001b[39m\u001b[38;5;124m'\u001b[39m, gudang\u001b[38;5;241m.\u001b[39mget(\u001b[38;5;124m'\u001b[39m\u001b[38;5;124mmanggis\u001b[39m\u001b[38;5;124m'\u001b[39m))\n\u001b[1;32m----> 9\u001b[0m \u001b[43mgudang\u001b[49m\u001b[43m[\u001b[49m\u001b[38;5;124;43m'\u001b[39;49m\u001b[38;5;124;43mapel\u001b[39;49m\u001b[38;5;124;43m'\u001b[39;49m\u001b[43m:\u001b[49m\u001b[38;5;124;43m'\u001b[39;49m\u001b[38;5;124;43mpisang\u001b[39;49m\u001b[38;5;124;43m'\u001b[39;49m\u001b[43m]\u001b[49m\n",
      "\u001b[1;31mKeyError\u001b[0m: slice('apel', 'pisang', None)"
     ]
    }
   ],
   "source": [
    "print(gudang)\n",
    "\n",
    "print('jumlah apel =', gudang.get('apel'))\n",
    "print('jumlah mangga =', gudang.get('mangga'))\n",
    "print('jumlah jeruk =', gudang.get('jeruk'))\n",
    "print('jumlah pisang =', gudang.get('pisang'))\n",
    "print('jumlah manggis =', gudang.get('manggis'))\n",
    "\n"
   ]
  },
  {
   "cell_type": "code",
   "execution_count": 30,
   "metadata": {},
   "outputs": [
    {
     "name": "stdout",
     "output_type": "stream",
     "text": [
      "jumlah jamblang = stock jamblang kosong!\n"
     ]
    }
   ],
   "source": [
    "print('jumlah jamblang =', gudang.get('jamblang','stock jamblang kosong!'))"
   ]
  },
  {
   "cell_type": "code",
   "execution_count": 31,
   "metadata": {},
   "outputs": [
    {
     "ename": "KeyError",
     "evalue": "slice('ape', 'pisang', None)",
     "output_type": "error",
     "traceback": [
      "\u001b[1;31m---------------------------------------------------------------------------\u001b[0m",
      "\u001b[1;31mKeyError\u001b[0m                                  Traceback (most recent call last)",
      "Cell \u001b[1;32mIn[31], line 1\u001b[0m\n\u001b[1;32m----> 1\u001b[0m \u001b[43mgudang\u001b[49m\u001b[43m[\u001b[49m\u001b[38;5;124;43m'\u001b[39;49m\u001b[38;5;124;43mape\u001b[39;49m\u001b[38;5;124;43m'\u001b[39;49m\u001b[43m:\u001b[49m\u001b[38;5;124;43m'\u001b[39;49m\u001b[38;5;124;43mpisang\u001b[39;49m\u001b[38;5;124;43m'\u001b[39;49m\u001b[43m]\u001b[49m\n",
      "\u001b[1;31mKeyError\u001b[0m: slice('ape', 'pisang', None)"
     ]
    }
   ],
   "source": [
    "gudang['ape':'pisang']"
   ]
  },
  {
   "cell_type": "code",
   "execution_count": 33,
   "metadata": {},
   "outputs": [
    {
     "name": "stdout",
     "output_type": "stream",
     "text": [
      "{'Nama': 'Zee', 'Prodi': 'BD', 'Nilai': [80, 100, 90]}\n"
     ]
    },
    {
     "data": {
      "text/plain": [
       "'Zee'"
      ]
     },
     "execution_count": 33,
     "metadata": {},
     "output_type": "execute_result"
    }
   ],
   "source": [
    "mahasiswa = {'Nama':'Zee', 'Prodi': 'BD', 'Nilai': [80,100,90]}\n",
    "print(mahasiswa)\n",
    "\n",
    "mahasiswa['Nama']"
   ]
  },
  {
   "cell_type": "code",
   "execution_count": 40,
   "metadata": {},
   "outputs": [
    {
     "name": "stdout",
     "output_type": "stream",
     "text": [
      "{'Apel': 6, 'Pisang': 12, 'Jeruk': 10, 'Jambu Air': 12, 'Bengkoang': 8, 'Jambu Biji': 3, 'Anggur': 10, 'Stroberi': 15, 'Alpukat': 12, 'Kelapa': 5}\n"
     ]
    }
   ],
   "source": [
    "jumlah_buah = {'Apel': 6,\n",
    "               'Pisang': 12,\n",
    "               'Jeruk': 10,\n",
    "               'Jambu Air': 12,\n",
    "               'Bengkoang': 8,\n",
    "               'Jambu Biji': 3,\n",
    "               'Anggur': 10}\n",
    "\n",
    "jumlah_buah['Stroberi'] = 15\n",
    "jumlah_buah['Alpukat'] = 12\n",
    "jumlah_buah['Kelapa'] = 5\n",
    "\n",
    "print(jumlah_buah)"
   ]
  },
  {
   "cell_type": "code",
   "execution_count": 36,
   "metadata": {},
   "outputs": [
    {
     "data": {
      "text/plain": [
       "dict_items([('Apel', 6), ('Pisang', 12), ('Jeruk', 10), ('Jambu Air', 12), ('Bengkoang', 8), ('Jambu Biji', 3), ('Anggur', 10), ('Stroberi', 15), ('Alpukat', 12), ('Kelapa', 5)])"
      ]
     },
     "execution_count": 36,
     "metadata": {},
     "output_type": "execute_result"
    }
   ],
   "source": [
    "jumlah_buah['Apel']\n",
    "jumlah_buah.keys()\n",
    "jumlah_buah.values()\n",
    "jumlah_buah.items()"
   ]
  },
  {
   "cell_type": "code",
   "execution_count": 41,
   "metadata": {},
   "outputs": [
    {
     "name": "stdout",
     "output_type": "stream",
     "text": [
      "{'Apel': 6, 'Pisang': 12, 'Jeruk': 10, 'Jambu Air': 12, 'Bengkoang': 8, 'Jambu Biji': 3, 'Anggur': 10, 'Stroberi': 15, 'Alpukat': 12, 'Kelapa': 5}\n",
      "{'Apel': 6, 'Pisang': 12, 'Jeruk': 10, 'Jambu Air': 12, 'Bengkoang': 8, 'Jambu Biji': 3, 'Anggur': 10, 'Stroberi': 15, 'Alpukat': 12} \n",
      "\n",
      "{}\n"
     ]
    }
   ],
   "source": [
    "print(jumlah_buah)\n",
    "\n",
    "del jumlah_buah['Kelapa']\n",
    "print(jumlah_buah, '\\n')\n",
    "\n",
    "pesan = 'Jumlah buah tidak ada!'\n",
    "jumlah_buah.pop('apel', pesan)\n",
    "\n",
    "jumlah_buah.clear()\n",
    "print(jumlah_buah)"
   ]
  },
  {
   "cell_type": "code",
   "execution_count": 42,
   "metadata": {},
   "outputs": [
    {
     "data": {
      "text/plain": [
       "'Jumlah buah tidak ada!'"
      ]
     },
     "execution_count": 42,
     "metadata": {},
     "output_type": "execute_result"
    }
   ],
   "source": [
    "pesan = 'Jumlah buah tidak ada!'\n",
    "jumlah_buah.pop('apel', pesan)"
   ]
  },
  {
   "cell_type": "code",
   "execution_count": 43,
   "metadata": {},
   "outputs": [
    {
     "name": "stdout",
     "output_type": "stream",
     "text": [
      "{}\n"
     ]
    }
   ],
   "source": [
    "jumlah_buah.clear()\n",
    "print(jumlah_buah)"
   ]
  },
  {
   "cell_type": "code",
   "execution_count": 50,
   "metadata": {},
   "outputs": [],
   "source": [
    "import numpy as np"
   ]
  },
  {
   "cell_type": "code",
   "execution_count": null,
   "metadata": {},
   "outputs": [],
   "source": [
    "!pip install numpy"
   ]
  },
  {
   "cell_type": "code",
   "execution_count": 61,
   "metadata": {},
   "outputs": [
    {
     "name": "stdout",
     "output_type": "stream",
     "text": [
      "[17  2  8  9  7  5  4 -1  0]\n"
     ]
    },
    {
     "data": {
      "text/plain": [
       "numpy.ndarray"
      ]
     },
     "execution_count": 61,
     "metadata": {},
     "output_type": "execute_result"
    }
   ],
   "source": [
    "angka = np.array([17, 2, 8, 9 ,7, 5, 4, -1, 0], dtype=int)\n",
    "print(angka)\n",
    "type(angka)"
   ]
  },
  {
   "cell_type": "code",
   "execution_count": 52,
   "metadata": {},
   "outputs": [
    {
     "name": "stdout",
     "output_type": "stream",
     "text": [
      "['F' 'E' 'N' 'D' 'Y']\n"
     ]
    }
   ],
   "source": [
    "alfabet = ['F', 'E', 'N', 'D', 'Y']\n",
    "alfabet = np.array(alfabet)\n",
    "print(alfabet)"
   ]
  },
  {
   "cell_type": "code",
   "execution_count": 53,
   "metadata": {},
   "outputs": [
    {
     "name": "stdout",
     "output_type": "stream",
     "text": [
      "[27.9 19.2 -1.1 24.  16.  22.  20.1]\n"
     ]
    }
   ],
   "source": [
    "Suhu = [27.9, 19.2, -1.1, 24.0, 16.0, 22.0, 20.1]\n",
    "Suhu = np.array(Suhu)\n",
    "print(Suhu)"
   ]
  },
  {
   "cell_type": "code",
   "execution_count": 62,
   "metadata": {},
   "outputs": [
    {
     "name": "stdout",
     "output_type": "stream",
     "text": [
      "[[1 4 1]\n",
      " [2 6 1]\n",
      " [5 1 2]]\n"
     ]
    }
   ],
   "source": [
    "Matriks = np.array([[1,4,1],\n",
    "                    [2,6,1],\n",
    "                    [5,1,2]])\n",
    "\n",
    "print(Matriks)"
   ]
  },
  {
   "cell_type": "code",
   "execution_count": 63,
   "metadata": {},
   "outputs": [
    {
     "data": {
      "text/plain": [
       "array([[ 2,  8,  0],\n",
       "       [ 2,  9,  0],\n",
       "       [-1,  2,  3]])"
      ]
     },
     "execution_count": 63,
     "metadata": {},
     "output_type": "execute_result"
    }
   ],
   "source": [
    "A = np.array([[2,8,0], [2,9,0], [-1,2,3]])\n",
    "A"
   ]
  },
  {
   "cell_type": "code",
   "execution_count": 64,
   "metadata": {},
   "outputs": [
    {
     "name": "stdout",
     "output_type": "stream",
     "text": [
      "[[125 225 100  67  80]\n",
      " [100 200 112  80  92]\n",
      " [197 186 104  71  72]\n",
      " [156 131 135  50  45]]\n"
     ]
    },
    {
     "data": {
      "text/plain": [
       "numpy.ndarray"
      ]
     },
     "execution_count": 64,
     "metadata": {},
     "output_type": "execute_result"
    }
   ],
   "source": [
    "image = [[125, 225, 100, 67, 80],\n",
    "         [100, 200, 112, 80, 92],\n",
    "         [197, 186, 104, 71, 72],\n",
    "         [156, 131, 135, 50, 45]]\n",
    "\n",
    "image = np.array(image, dtype=int)\n",
    "print(image)\n",
    "type(image)"
   ]
  },
  {
   "cell_type": "code",
   "execution_count": 69,
   "metadata": {},
   "outputs": [
    {
     "name": "stdout",
     "output_type": "stream",
     "text": [
      "[12  3  5  6  0 -1  2]\n"
     ]
    },
    {
     "data": {
      "text/plain": [
       "numpy.ndarray"
      ]
     },
     "execution_count": 69,
     "metadata": {},
     "output_type": "execute_result"
    }
   ],
   "source": [
    "number = np.array([12, 3, 5, 6, 0, -1, 2])\n",
    "print(number)\n",
    "type(number)"
   ]
  },
  {
   "cell_type": "code",
   "execution_count": 70,
   "metadata": {},
   "outputs": [
    {
     "name": "stdout",
     "output_type": "stream",
     "text": [
      "[12  3  5  6  0 -1  2] \n",
      "\n",
      "Size         : 7\n",
      "Dimension    : 1\n",
      "Shape        : (7,) \n",
      "\n",
      "[[125 225 100  67  80]\n",
      " [100 200 112  80  92]\n",
      " [197 186 104  71  72]\n",
      " [156 131 135  50  45]] \n",
      "\n",
      "Size         : 20\n",
      "Dimension    : 2\n",
      "Shape        : (4, 5)\n"
     ]
    }
   ],
   "source": [
    "print(number, '\\n')\n",
    "print('Size         :', number.size)\n",
    "print('Dimension    :', number.ndim)\n",
    "print('Shape        :', number.shape, '\\n')\n",
    "\n",
    "print(image, '\\n')\n",
    "print('Size         :',image.size)\n",
    "print('Dimension    :', image.ndim)\n",
    "print('Shape        :', image.shape)"
   ]
  },
  {
   "cell_type": "code",
   "execution_count": 71,
   "metadata": {},
   "outputs": [
    {
     "name": "stdout",
     "output_type": "stream",
     "text": [
      "[0. 0. 0. 0. 0.] \n",
      "\n",
      "[[0 0 0]\n",
      " [0 0 0]\n",
      " [0 0 0]] \n",
      "\n"
     ]
    }
   ],
   "source": [
    "nol_kecil = np.zeros(5)\n",
    "nol_besar = np.zeros((3,3), dtype=int)\n",
    "\n",
    "print(nol_kecil, '\\n')\n",
    "print(nol_besar, '\\n')"
   ]
  },
  {
   "cell_type": "code",
   "execution_count": 72,
   "metadata": {},
   "outputs": [
    {
     "name": "stdout",
     "output_type": "stream",
     "text": [
      "[1. 1. 1. 1. 1. 1. 1. 1. 1. 1.] \n",
      "\n",
      "[[1 1 1 1]\n",
      " [1 1 1 1]\n",
      " [1 1 1 1]\n",
      " [1 1 1 1]] \n",
      "\n"
     ]
    }
   ],
   "source": [
    "vecor_1 = np.ones(10)\n",
    "matriks_1 = np.ones((4,4), dtype=int)\n",
    "\n",
    "print(vecor_1, '\\n')\n",
    "print(matriks_1, '\\n')"
   ]
  },
  {
   "cell_type": "code",
   "execution_count": 73,
   "metadata": {},
   "outputs": [
    {
     "name": "stdout",
     "output_type": "stream",
     "text": [
      "[[0 1 2]\n",
      " [3 4 5]\n",
      " [6 7 8]] \n",
      "\n"
     ]
    }
   ],
   "source": [
    "vector_range = np.arange(9)\n",
    "matriks_range = vector_range.reshape(3,3)\n",
    "\n",
    "print(matriks_range, '\\n')"
   ]
  }
 ],
 "metadata": {
  "kernelspec": {
   "display_name": "Python 3",
   "language": "python",
   "name": "python3"
  },
  "language_info": {
   "codemirror_mode": {
    "name": "ipython",
    "version": 3
   },
   "file_extension": ".py",
   "mimetype": "text/x-python",
   "name": "python",
   "nbconvert_exporter": "python",
   "pygments_lexer": "ipython3",
   "version": "3.12.0"
  }
 },
 "nbformat": 4,
 "nbformat_minor": 2
}

{
  "cells": [
    {
      "cell_type": "code",
      "execution_count": 3,
      "metadata": {
        "colab": {
          "base_uri": "https://localhost:8080/"
        },
        "id": "kBHX9r_HfirA",
        "outputId": "f0208019-ee8e-4b4a-8ab1-8aaf54e51dc5"
      },
      "outputs": [
        {
          "name": "stdout",
          "output_type": "stream",
          "text": [
            "Drive already mounted at /content/drive; to attempt to forcibly remount, call drive.mount(\"/content/drive\", force_remount=True).\n"
          ]
        }
      ],
      "source": [
        "from google.colab import drive\n",
        "drive.mount('/content/drive')"
      ]
    },
    {
      "cell_type": "code",
      "execution_count": null,
      "metadata": {
        "colab": {
          "base_uri": "https://localhost:8080/"
        },
        "id": "y9VxOJgcWoHy",
        "outputId": "8bb19991-3974-4779-9e30-65f151fbe1d4"
      },
      "outputs": [
        {
          "name": "stdout",
          "output_type": "stream",
          "text": [
            "Saya akan mengajarkan materi ke-1, tentang MyFirstProgram.py, coba cek disini ya: https://www.orbitguru.org\n"
          ]
        }
      ],
      "source": [
        "Minggu = 1\n",
        "Topik = 'MyFirstProgram.py'\n",
        "Modulelink = 'https://www.orbitguru.org'\n",
        "\n",
        "print(f\"Saya akan mengajarkan materi ke-{Minggu}, tentang {Topik}, coba cek disini ya: {Modulelink}\")"
      ]
    },
    {
      "cell_type": "code",
      "execution_count": 22,
      "metadata": {
        "colab": {
          "base_uri": "https://localhost:8080/"
        },
        "id": "_n6J8xjTgKLi",
        "outputId": "3a1eefa8-475b-4987-f850-c5d28b475c15"
      },
      "outputs": [
        {
          "name": "stdout",
          "output_type": "stream",
          "text": [
            "Tahun lahir Anda = 2004\n",
            "Usia Anda saat ini = 20 tahun\n"
          ]
        }
      ],
      "source": [
        "tahun_lahir = input('Tahun lahir Anda = ')\n",
        "tahun_lahir = int(tahun_lahir)\n",
        "print('Usia Anda saat ini =', 2024 - tahun_lahir, 'tahun')"
      ]
    },
    {
      "cell_type": "code",
      "execution_count": 6,
      "metadata": {
        "colab": {
          "base_uri": "https://localhost:8080/"
        },
        "id": "eH6eh7YRhmJJ",
        "outputId": "c97f9142-c304-4603-876e-709a6b2d4cd9"
      },
      "outputs": [
        {
          "name": "stdout",
          "output_type": "stream",
          "text": [
            "Nama\t\t\t: zefanya\n",
            "Usia\t\t\t: 20\n",
            "Jenis Kelamin\t\t: laki laki\n",
            "Asal Perguruan Tinggi\t: sma\n",
            "Program Studi\t\t: bisnis\n",
            "\n",
            "Halo! Perkenalkan, namaku zefanya dan usiaku 20 tahun.\n",
            "Aku seorang laki laki. Saat ini, aku berkuliah di sma, jurusan bisnis.\n"
          ]
        }
      ],
      "source": [
        "nama = input('Nama\\t\\t\\t: ')\n",
        "usia = input('Usia\\t\\t\\t: ')\n",
        "jenis_kelamin = input('Jenis Kelamin\\t\\t: ')\n",
        "asal_pt = input('Asal Perguruan Tinggi\\t: ')\n",
        "prodi = input('Program Studi\\t\\t: ')\n",
        "\n",
        "\n",
        "print(f\"\"\"\\nHalo! Perkenalkan, namaku {nama} dan usiaku {usia} tahun.\n",
        "Aku seorang {jenis_kelamin}. Saat ini, aku berkuliah di {asal_pt}, jurusan {prodi}.\"\"\")"
      ]
    },
    {
      "cell_type": "code",
      "execution_count": 3,
      "metadata": {
        "id": "V-y-ni8Jio7G"
      },
      "outputs": [
        {
          "name": "stdout",
          "output_type": "stream",
          "text": [
            "panjang = 100, lebar = 80\n"
          ]
        }
      ],
      "source": [
        "Panjang = 80\n",
        "Lebar = 100\n",
        "\n",
        "Panjang, Lebar = Lebar, Panjang\n",
        "\n",
        "print(f\"panjang = {Panjang}, lebar = {Lebar}\")"
      ]
    },
    {
      "cell_type": "code",
      "execution_count": 19,
      "metadata": {
        "colab": {
          "base_uri": "https://localhost:8080/"
        },
        "id": "2b2hLH8VjUbc",
        "outputId": "244903fa-c7d7-4f03-f89f-bd13345853c5"
      },
      "outputs": [
        {
          "name": "stdout",
          "output_type": "stream",
          "text": [
            "5 ** 3 = 125\n",
            "5 * 3 = 15\n",
            "5 / 3 = 1.6666666666666667\n",
            "5 // 3 = 1\n",
            "5 % 3 = 2\n",
            "5 + 3 = 8\n",
            "5 - 3 = 2\n"
          ]
        }
      ],
      "source": [
        "x = 5\n",
        "y = 3\n",
        "\n",
        "print(f'{x} ** {y} =', x**y)\n",
        "print(f'{x} * {y} =', x*y)\n",
        "print(f'{x} / {y} =', x/y)\n",
        "print(f'{x} // {y} =', x//y)\n",
        "print(f'{x} % {y} =', x % y)\n",
        "print(f'{x} + {y} =', x+y)\n",
        "print(f'{x} - {y} =', x-y)"
      ]
    },
    {
      "cell_type": "code",
      "execution_count": 10,
      "metadata": {
        "colab": {
          "base_uri": "https://localhost:8080/"
        },
        "id": "RQ7CTv5ykWg6",
        "outputId": "b50502f7-90db-417b-d58b-4fbd348ac380"
      },
      "outputs": [
        {
          "name": "stdout",
          "output_type": "stream",
          "text": [
            "Nilai akhir student = 78.92857142857143\n"
          ]
        }
      ],
      "source": [
        "total_pertemuan = 14\n",
        "kehadiran = 10\n",
        "tugas = 85\n",
        "ujian = 80\n",
        "\n",
        "nilai_akhir = (kehadiran/total_pertemuan)*30 + tugas*0.3 + ujian*0.4\n",
        "print('Nilai akhir student =', nilai_akhir)"
      ]
    },
    {
      "cell_type": "code",
      "execution_count": 12,
      "metadata": {
        "colab": {
          "base_uri": "https://localhost:8080/"
        },
        "id": "gsOhqjMSlFP8",
        "outputId": "2e080550-ee90-4c11-8faf-006426a3d8bb"
      },
      "outputs": [
        {
          "name": "stdout",
          "output_type": "stream",
          "text": [
            "240\n",
            "220\n"
          ]
        }
      ],
      "source": [
        "harga = 200\n",
        "\n",
        "harga = harga + 40\n",
        "print(harga)\n",
        "\n",
        "harga = harga - 20\n",
        "print(harga)"
      ]
    },
    {
      "cell_type": "code",
      "execution_count": 13,
      "metadata": {
        "colab": {
          "base_uri": "https://localhost:8080/"
        },
        "id": "0r6-uWcMlS8d",
        "outputId": "aabe98ad-9488-4a4e-baa4-2050f47dbef5"
      },
      "outputs": [
        {
          "name": "stdout",
          "output_type": "stream",
          "text": [
            "5<3= False\n",
            "5>3= True\n",
            "5<=3= False\n",
            "5>=3= True\n",
            "5==3= False\n",
            "5!=3= True\n"
          ]
        }
      ],
      "source": [
        "x = 5\n",
        "y = 3\n",
        "\n",
        "print(f\"{x}<{y}=\",x<y)\n",
        "print(f\"{x}>{y}=\",x>y)\n",
        "print(f\"{x}<={y}=\",x<=y)\n",
        "print(f\"{x}>={y}=\",x>=y)\n",
        "print(f\"{x}=={y}=\",x==y)\n",
        "print(f\"{x}!={y}=\",x!=y)\n"
      ]
    },
    {
      "cell_type": "code",
      "execution_count": 14,
      "metadata": {
        "colab": {
          "base_uri": "https://localhost:8080/"
        },
        "id": "PCOUTNh4l1OY",
        "outputId": "d119ff1b-f157-430b-8572-ab8c49391616"
      },
      "outputs": [
        {
          "name": "stdout",
          "output_type": "stream",
          "text": [
            "True\n"
          ]
        }
      ],
      "source": [
        "password = 'kentang123'\n",
        "password_simpen = 'kentang123'\n",
        "\n",
        "verifikasi = password == password_simpen\n",
        "\n",
        "print(verifikasi)"
      ]
    },
    {
      "cell_type": "code",
      "execution_count": 16,
      "metadata": {
        "colab": {
          "base_uri": "https://localhost:8080/"
        },
        "id": "m6Wpz-QQmCER",
        "outputId": "dbd45be7-5d40-4d49-f84a-a124cb3b89a3"
      },
      "outputs": [
        {
          "name": "stdout",
          "output_type": "stream",
          "text": [
            "x and b =  False\n",
            "x or y =  True\n",
            "not(x) =  False\n"
          ]
        }
      ],
      "source": [
        "x = True\n",
        "y = False\n",
        "\n",
        "print(\"x and b = \", x and y )\n",
        "print(\"x or y = \", x or y )\n",
        "print(\"not(x) = \", not(x))"
      ]
    },
    {
      "cell_type": "code",
      "execution_count": 21,
      "metadata": {
        "colab": {
          "base_uri": "https://localhost:8080/"
        },
        "id": "ItRBuMTLmuy5",
        "outputId": "c02fe0f4-40bb-436f-8c89-3e38e9d6ba90"
      },
      "outputs": [
        {
          "name": "stdout",
          "output_type": "stream",
          "text": [
            "True\n",
            "False \n",
            "\n",
            "True\n",
            "False \n",
            "\n",
            "True\n",
            "False\n"
          ]
        }
      ],
      "source": [
        "a = 10\n",
        "b = 12\n",
        "c = 50\n",
        "\n",
        "print(a < b and b < c)\n",
        "print(a == b and b != c, '\\n')\n",
        "\n",
        "print(a < b or b < c,)\n",
        "print(a == b and b != c, '\\n')\n",
        "\n",
        "print(not(a == b))\n",
        "print(not(b != c))"
      ]
    },
    {
      "cell_type": "code",
      "execution_count": 4,
      "metadata": {
        "colab": {
          "base_uri": "https://localhost:8080/"
        },
        "id": "ttvJkmyJn4Zp",
        "outputId": "f6386e0e-e8a0-42b9-98c0-1f488dff9660"
      },
      "outputs": [
        {
          "name": "stdout",
          "output_type": "stream",
          "text": [
            "menghitung luas dan persegi panjang\n",
            "\n",
            "Luas pesergi \t: 720\n",
            "\n",
            "volume pesergi \t: 900\n"
          ]
        }
      ],
      "source": [
        "#balok\n",
        "\n",
        "print('menghitung luas dan persegi panjang')\n",
        "t = float(input())\n",
        "l = float(input())\n",
        "p = float(input())\n",
        "\n",
        "luas = 2*(p*l + p*t + l*t)\n",
        "volume = p*t*l\n",
        "\n",
        "print('\\nLuas pesergi \\t:', int(luas))\n",
        "print('\\nvolume pesergi \\t:', int(volume))"
      ]
    },
    {
      "cell_type": "code",
      "execution_count": 9,
      "metadata": {},
      "outputs": [
        {
          "name": "stdout",
          "output_type": "stream",
          "text": [
            "menghitung luas dan volume bola\n",
            "\n",
            "Luas bola \t: (12, 12600.0)\n",
            "\n",
            "volume volume \t: (4.0, 378000.0)\n"
          ]
        }
      ],
      "source": [
        "#bola\n",
        "\n",
        "print('menghitung luas dan volume bola')\n",
        "r = float(input())\n",
        "\n",
        "luas = 4*3,14*r*r \n",
        "volume = 4/3*3,14*r*r*r\n",
        "\n",
        "print('\\nLuas bola \\t:', luas)\n",
        "print('\\nvolume volume \\t:',volume)"
      ]
    },
    {
      "cell_type": "code",
      "execution_count": null,
      "metadata": {},
      "outputs": [],
      "source": [
        "#kubus\n",
        "\n",
        "print('menghitung luas dan volume kubus')\n",
        "s = float(input('/nMasukan nilai sisi = '))\n",
        "\n",
        "luas = s*s*s\n",
        "Volume = 6*(s**2)\n",
        "\n",
        "print('\\nLuas kubus \\t', int(luas))\n",
        "print('\\nVolume kubus \\t', int(Volume))"
      ]
    },
    {
      "cell_type": "code",
      "execution_count": 23,
      "metadata": {
        "colab": {
          "base_uri": "https://localhost:8080/"
        },
        "id": "g3dIoIqrqoLY",
        "outputId": "ed149530-6c9d-44a1-8f53-82f520548e60"
      },
      "outputs": [
        {
          "name": "stdout",
          "output_type": "stream",
          "text": [
            "100.321\n"
          ]
        }
      ],
      "source": [
        "pressure = '100.321'\n",
        "pressure = float(pressure)\n",
        "print(pressure)"
      ]
    },
    {
      "cell_type": "code",
      "execution_count": 26,
      "metadata": {
        "colab": {
          "base_uri": "https://localhost:8080/"
        },
        "id": "SQm7xObYq_OJ",
        "outputId": "ca1b6614-d3b5-41fc-ebc4-e9ed6f6de6c8"
      },
      "outputs": [
        {
          "name": "stdout",
          "output_type": "stream",
          "text": [
            "True\n"
          ]
        }
      ],
      "source": [
        "average = 1.0\n",
        "average = bool(average)\n",
        "print(average)"
      ]
    },
    {
      "cell_type": "code",
      "execution_count": 61,
      "metadata": {},
      "outputs": [
        {
          "name": "stdout",
          "output_type": "stream",
          "text": [
            "['merah', 'biru', 'hijau', 'kuning', 'ungu', 'hitam']\n"
          ]
        },
        {
          "data": {
            "text/plain": [
              "list"
            ]
          },
          "execution_count": 61,
          "metadata": {},
          "output_type": "execute_result"
        }
      ],
      "source": [
        "warna = ['merah', 'biru', 'hijau', 'kuning', 'ungu', 'hitam']\n",
        "\n",
        "print(warna)\n",
        "type(warna)"
      ]
    },
    {
      "cell_type": "code",
      "execution_count": 10,
      "metadata": {},
      "outputs": [
        {
          "data": {
            "text/plain": [
              "5"
            ]
          },
          "execution_count": 10,
          "metadata": {},
          "output_type": "execute_result"
        }
      ],
      "source": [
        "warna.index('merah')\n",
        "warna.index('biru')\n",
        "warna.index('kuning')\n",
        "warna.index('ungu')\n",
        "warna.index('hijau')\n",
        "warna.index('hitam')"
      ]
    },
    {
      "cell_type": "code",
      "execution_count": 3,
      "metadata": {},
      "outputs": [
        {
          "name": "stdout",
          "output_type": "stream",
          "text": [
            "[1, 2, 3, 4, 5, 6]\n"
          ]
        },
        {
          "data": {
            "text/plain": [
              "list"
            ]
          },
          "execution_count": 3,
          "metadata": {},
          "output_type": "execute_result"
        }
      ],
      "source": [
        "angka = [1, 2, 3, 4, 5, 6]\n",
        "\n",
        "print(angka)\n",
        "type(angka)"
      ]
    },
    {
      "cell_type": "code",
      "execution_count": 4,
      "metadata": {},
      "outputs": [
        {
          "name": "stdout",
          "output_type": "stream",
          "text": [
            "['Lima', 5, 0.5, True]\n"
          ]
        },
        {
          "data": {
            "text/plain": [
              "list"
            ]
          },
          "execution_count": 4,
          "metadata": {},
          "output_type": "execute_result"
        }
      ],
      "source": [
        "data1 = ['Lima', 5, 0.5, True]\n",
        "\n",
        "print(data1)\n",
        "type(data1)"
      ]
    },
    {
      "cell_type": "code",
      "execution_count": 21,
      "metadata": {},
      "outputs": [
        {
          "name": "stdout",
          "output_type": "stream",
          "text": [
            "dataset            :  [['kentang', 23, 0, 'Jawa cina', 2300000], ['dragon', 25, 0, 'cina jawa', 47000000], ['naga']]\n",
            "tipe dataset       :  <class 'list'>\n",
            "jumlah dataset     :  3\n",
            "['dragon', 25, 0, 'cina jawa', 47000000]\n"
          ]
        }
      ],
      "source": [
        "dataset = [['kentang', 23, 0,'Jawa cina', 2300000],\n",
        "        ['dragon', 25, 0, 'cina jawa', 47000000],\n",
        "        [\"naga\"]]\n",
        "\n",
        "print('dataset            : ', dataset)\n",
        "print('tipe dataset       : ', type(dataset))\n",
        "print('jumlah dataset     : ', len(dataset))\n",
        "print(dataset[1])"
      ]
    },
    {
      "cell_type": "code",
      "execution_count": 62,
      "metadata": {},
      "outputs": [
        {
          "name": "stdout",
          "output_type": "stream",
          "text": [
            "warna = ['merah', 'biru', 'hijau', 'kuning', 'ungu', 'hitam']\n",
            "warna = ['Red', 'Green', 'Blue', 'kuning', 'ungu', 'hitam']\n"
          ]
        }
      ],
      "source": [
        "print (f\"warna = {warna}\")\n",
        "\n",
        "warna[0] = 'Red'\n",
        "warna[1] = 'Green'\n",
        "warna[-4] = 'Blue'\n",
        "\n",
        "print (f\"warna = {warna}\")"
      ]
    },
    {
      "cell_type": "code",
      "execution_count": 56,
      "metadata": {},
      "outputs": [
        {
          "ename": "NameError",
          "evalue": "name 'bulat' is not defined",
          "output_type": "error",
          "traceback": [
            "\u001b[1;31m---------------------------------------------------------------------------\u001b[0m",
            "\u001b[1;31mNameError\u001b[0m                                 Traceback (most recent call last)",
            "Cell \u001b[1;32mIn[56], line 1\u001b[0m\n\u001b[1;32m----> 1\u001b[0m \u001b[38;5;28mprint\u001b[39m(\u001b[43mbulat\u001b[49m, \u001b[38;5;124m'\u001b[39m\u001b[38;5;130;01m\\n\u001b[39;00m\u001b[38;5;124m'\u001b[39m)\n\u001b[0;32m      3\u001b[0m bulat [\u001b[38;5;241m0\u001b[39m] \u001b[38;5;241m=\u001b[39m bulat[\u001b[38;5;241m0\u001b[39m] \u001b[38;5;241m+\u001b[39m \u001b[38;5;241m10\u001b[39m\n\u001b[0;32m      4\u001b[0m bulat [\u001b[38;5;241m1\u001b[39m] \u001b[38;5;241m=\u001b[39m bulat[\u001b[38;5;241m1\u001b[39m] \u001b[38;5;241m/\u001b[39m \u001b[38;5;241m5\u001b[39m\n",
            "\u001b[1;31mNameError\u001b[0m: name 'bulat' is not defined"
          ]
        }
      ],
      "source": [
        "print(bulat, '\\n')\n",
        "\n",
        "bulat [0] = bulat[0] + 10\n",
        "bulat [1] = bulat[1] / 5\n",
        "bulat [3] = bulat[3] % 2\n",
        "bulat [4] = bulat[4] + bulat [5]\n",
        "bulat [5] = 0\n",
        "\n",
        "print(bulat)\n",
        "\n"
      ]
    },
    {
      "cell_type": "code",
      "execution_count": 33,
      "metadata": {},
      "outputs": [
        {
          "data": {
            "text/plain": [
              "[1, 2, 3, 4, 5, 'a', 'b', 'c', 'd', 'e']"
            ]
          },
          "execution_count": 33,
          "metadata": {},
          "output_type": "execute_result"
        }
      ],
      "source": [
        "angka = [1, 2, 3, 4, 5]\n",
        "huruf = ['a', 'b', 'c', 'd', 'e']\n",
        "\n",
        "alphanumeric = angka + huruf\n",
        "alphanumeric"
      ]
    },
    {
      "cell_type": "code",
      "execution_count": 34,
      "metadata": {},
      "outputs": [
        {
          "name": "stdout",
          "output_type": "stream",
          "text": [
            "[100, 80, 50, 6, 5, 1, 0.2, 0, -0.1, -2, -2.3] \n",
            "\n"
          ]
        }
      ],
      "source": [
        "number = [80, 0.2, 50, -2.3, -0.1, 0, 1, 6, 5, 100, -2]\n",
        "number.sort(reverse=True)\n",
        "print(number, '\\n')"
      ]
    },
    {
      "cell_type": "code",
      "execution_count": 35,
      "metadata": {},
      "outputs": [
        {
          "name": "stdout",
          "output_type": "stream",
          "text": [
            "[-2.3, -2, -0.1, 0, 0.2, 1, 5, 6, 50, 80, 100]\n"
          ]
        }
      ],
      "source": [
        "print(sorted(number, reverse=False))"
      ]
    },
    {
      "cell_type": "code",
      "execution_count": 43,
      "metadata": {},
      "outputs": [
        {
          "name": "stdout",
          "output_type": "stream",
          "text": [
            "['cat', 'dog', 'rabbit', 'fish', 'turtle', 'hamster', 'bird']\n",
            "['cat', 'dog', 'rabbit', 'fish', 'turtle', 'hamster']\n",
            "['cat', 'dog', 'rabbit', 'turtle', 'hamster']\n",
            "['cat', 'rabbit', 'turtle', 'hamster']\n",
            "[]\n"
          ]
        }
      ],
      "source": [
        "pets =['cat', 'dog', 'rabbit', 'fish', 'turtle', 'hamster', 'bird']\n",
        "print(pets)\n",
        "\n",
        "pets.pop(-1)\n",
        "print(pets)\n",
        "\n",
        "del pets[3]\n",
        "print(pets)\n",
        "\n",
        "pets.remove('dog')\n",
        "print(pets)\n",
        "\n",
        "pets.clear()\n",
        "print(pets)\n"
      ]
    },
    {
      "cell_type": "code",
      "execution_count": 49,
      "metadata": {},
      "outputs": [
        {
          "name": "stdout",
          "output_type": "stream",
          "text": [
            "['dammam', 'dormamu', 'orion', 'yumeko', 'haramu']\n",
            "['dammam', 'dormamu', 'orion', 'yumeko', 'haramu'] \n",
            "\n",
            "['dormamu', 'orion', 'yumeko', 'haramu']\n",
            "['dammam', 'dormamu', 'orion', 'yumeko', 'haramu', 'genji'] \n",
            "\n"
          ]
        }
      ],
      "source": [
        "class_kentang =['dammam', 'dormamu', 'orion', 'yumeko','haramu',]\n",
        "class_salin = class_kentang.copy()\n",
        "\n",
        "print(class_kentang)\n",
        "print(class_salin, '\\n')\n",
        "\n",
        "class_kentang.remove('dammam')\n",
        "class_salin.append('genji')\n",
        "\n",
        "print(class_kentang)\n",
        "print(class_salin, '\\n')\n"
      ]
    },
    {
      "cell_type": "code",
      "execution_count": 54,
      "metadata": {},
      "outputs": [
        {
          "name": "stdout",
          "output_type": "stream",
          "text": [
            "{'versicolor', 'setosa', 'virginica'} \n",
            "\n",
            "{'ayame', 'virginica', 'sweet', 'confusa', 'versicolor', 'setosa'} \n",
            "\n",
            "{'ayame', 'sweet', 'confusa'} \n",
            "\n"
          ]
        }
      ],
      "source": [
        "iris = {'virginica', 'versicolor', 'setosa'}\n",
        "print(iris, '\\n')\n",
        "\n",
        "iris.add('ayame')\n",
        "iris.add('sweet')\n",
        "iris.add('confusa')\n",
        "iris.add('setosa')\n",
        "print(iris, '\\n')\n",
        "\n",
        "iris.remove('virginica')\n",
        "iris.remove('versicolor')\n",
        "iris.remove('setosa')\n",
        "print(iris, '\\n')"
      ]
    },
    {
      "cell_type": "markdown",
      "metadata": {},
      "source": [
        "implementasi set"
      ]
    },
    {
      "cell_type": "code",
      "execution_count": 65,
      "metadata": {},
      "outputs": [
        {
          "name": "stdout",
          "output_type": "stream",
          "text": [
            "{1, 2, 3, 4, 5, 7, 8, 9}\n",
            "{3, 5, 6, 7, 8} \n",
            "\n",
            "A irisan B= {8, 3, 5, 7} \n",
            "\n",
            "A gabungan B= {1, 2, 3, 4, 5, 6, 7, 8, 9} \n",
            "\n",
            "A beda setangkup B= {1, 2, 4, 6, 9} \n",
            "\n"
          ]
        }
      ],
      "source": [
        "A = {1,2,3,4,5,7,8,9}\n",
        "B = {3,5,6,7,8}\n",
        "\n",
        "print(A)\n",
        "print(B,'\\n')\n",
        "\n",
        "irisan = A.intersection(B)\n",
        "print('A irisan B=', irisan, '\\n')\n",
        "\n",
        "gabungan = A.union(B)\n",
        "print('A gabungan B=', gabungan, '\\n')\n",
        "\n",
        "beda_setangkup = A.symmetric_difference(B)\n",
        "print('A beda setangkup B=', beda_setangkup, '\\n')\n",
        "\n"
      ]
    },
    {
      "cell_type": "code",
      "execution_count": 4,
      "metadata": {},
      "outputs": [
        {
          "name": "stdout",
          "output_type": "stream",
          "text": [
            "block of code diesksekusi\n"
          ]
        }
      ],
      "source": [
        "condition = True\n",
        "\n",
        "if(condition):\n",
        "    print('block of code diesksekusi')"
      ]
    },
    {
      "cell_type": "code",
      "execution_count": 7,
      "metadata": {},
      "outputs": [
        {
          "name": "stdout",
          "output_type": "stream",
          "text": [
            "20 merupakan bilangan positif\n"
          ]
        }
      ],
      "source": [
        "angka = 20\n",
        "\n",
        "if(angka >= 0):\n",
        "  print(f'{angka} merupakan bilangan positif')"
      ]
    },
    {
      "cell_type": "code",
      "execution_count": 8,
      "metadata": {},
      "outputs": [
        {
          "name": "stdout",
          "output_type": "stream",
          "text": [
            "8 merupakan bilangan desimal\n"
          ]
        }
      ],
      "source": [
        "angka = 8\n",
        "\n",
        "if(angka>=0 and angka < 10):\n",
        "  print(f'{angka} merupakan bilangan desimal')"
      ]
    },
    {
      "cell_type": "code",
      "execution_count": 29,
      "metadata": {},
      "outputs": [
        {
          "name": "stdout",
          "output_type": "stream",
          "text": [
            "Anda tidak boleh mengikuti ujian pembuatan SIM!\n"
          ]
        }
      ],
      "source": [
        "usia = 16\n",
        "punya_KTP = input()\n",
        "\n",
        "if(usia<=17 and punya_KTP=='yes'):\n",
        "    print('Anda boleh mengikuti ujian pembuatan SIM!')\n",
        "else:\n",
        "    print('Anda tidak boleh mengikuti ujian pembuatan SIM!')"
      ]
    },
    {
      "cell_type": "code",
      "execution_count": 59,
      "metadata": {},
      "outputs": [
        {
          "name": "stdout",
          "output_type": "stream",
          "text": [
            "Anda boleh mengikuti ujian pembuatan SIM!\n"
          ]
        }
      ],
      "source": [
        "usia = int(input())\n",
        "punya_KTP = input('[y/n]') \n",
        "suket = input('[y/n]')  \n",
        "\n",
        "if(usia>=17 and (punya_KTP=='y' or suket=='y')): \n",
        "    print('Anda boleh mengikuti ujian pembuatan SIM!')\n",
        "else:\n",
        "    print('Anda tidak boleh mengikuti ujian pembuatan SIM!')"
      ]
    },
    {
      "cell_type": "code",
      "execution_count": 39,
      "metadata": {},
      "outputs": [
        {
          "name": "stdout",
          "output_type": "stream",
          "text": [
            "Block of code \"False\" dieksekusi!\n"
          ]
        }
      ],
      "source": [
        "condition = False\n",
        "\n",
        "if condition:\n",
        "  print('Block of code \"True\" dieksekusi!')\n",
        "else:\n",
        "  print('Block of code \"False\" dieksekusi!')"
      ]
    },
    {
      "cell_type": "code",
      "execution_count": 43,
      "metadata": {},
      "outputs": [
        {
          "name": "stdout",
          "output_type": "stream",
          "text": [
            "5 merupakan bilangan desimal\n"
          ]
        }
      ],
      "source": [
        "angka = int(input())\n",
        "\n",
        "if angka>=0 and angka<9:\n",
        "    print(f'{angka} merupakan bilangan desimal')\n",
        "else:\n",
        "    print(f'{angka} bukan termasuk bilangan desimal')"
      ]
    },
    {
      "cell_type": "code",
      "execution_count": null,
      "metadata": {},
      "outputs": [],
      "source": [
        "masker = input('Memakai masker [y/n] :')\n",
        "vaksin_1 = input('Sudah vaksin ke-1 [y/n] :')\n",
        "vaksin_2 = input('Sudah vaksin ke-2 [y/n] :')\n",
        "booster = input('Sudah booster ke-1 [y/n]: ')\n",
        "pcr = input('Hasil pcr [+/-] : ')\n",
        "\n",
        "if masker=='y' and (vaksin_1=='y' or vaksin_2=='y' or booster=='y') and pcr!='+':\n",
        "    print('\\nAnda boleh membeli tiket pesawat!')\n",
        "    print('Tetap patuhi prokes!')\n",
        "    print('Lakukan isoman ketika sudah sampai ditujuan!')\n",
        "else:\n",
        "    print('\\nAnda tidak diizinkan membeli tiket pesawat!')"
      ]
    },
    {
      "cell_type": "code",
      "execution_count": 51,
      "metadata": {},
      "outputs": [
        {
          "name": "stdout",
          "output_type": "stream",
          "text": [
            "Tidak Lulus\n"
          ]
        }
      ],
      "source": [
        "nilai = int(input())\n",
        "KKM = 70\n",
        "\n",
        "if nilai >= 70:\n",
        "  print('Lulus!')\n",
        "else:\n",
        "  print('Tidak Lulus')"
      ]
    },
    {
      "cell_type": "code",
      "execution_count": 60,
      "metadata": {},
      "outputs": [
        {
          "name": "stdout",
          "output_type": "stream",
          "text": [
            "Pilihan utama dieksekusi!\n"
          ]
        }
      ],
      "source": [
        "condition = True\n",
        "condition1 = False\n",
        "condition2 = True\n",
        "\n",
        "if condition:\n",
        "  print('Pilihan utama dieksekusi!')\n",
        "elif condition1:\n",
        "  print('Alternatif 1 dieksekusi!')\n",
        "elif condition2:\n",
        "  print('Alternatif 2 dieksekusi!')\n",
        "else:\n",
        "  print('Alternatif terakhir dieksekusi')"
      ]
    },
    {
      "cell_type": "code",
      "execution_count": 61,
      "metadata": {},
      "outputs": [
        {
          "name": "stdout",
          "output_type": "stream",
          "text": [
            "20 merupakan bilangan asli\n"
          ]
        }
      ],
      "source": [
        "angka = int(input('Input Angka: '))\n",
        "\n",
        "if angka >=0 and angka <9:\n",
        "  print(f'{angka} merupakan bilangan desimal')\n",
        "elif angka <0:\n",
        "  print(f'{angka} merupakan bilangan negatif')\n",
        "else:\n",
        "  print(f'{angka} merupakan bilangan asli')"
      ]
    },
    {
      "cell_type": "code",
      "execution_count": null,
      "metadata": {},
      "outputs": [],
      "source": [
        "nilai = float(input('Nilai Mahasiswa = '))\n",
        "\n",
        "if nilai >=80:\n",
        "  grade = 'A'\n",
        "elif nilai >=70:\n",
        "  grade = 'B'\n",
        "elif nilai >=60:\n",
        "  grade = 'C'\n",
        "elif nilai >=50:\n",
        "  grade = 'D'\n",
        "elif nilai >=40:\n",
        "  grade = 'E'\n",
        "else:\n",
        "  grade = 'F'\n",
        "\n",
        "print(f'Kamu mendapatkan grade {grade}')"
      ]
    },
    {
      "cell_type": "code",
      "execution_count": 67,
      "metadata": {},
      "outputs": [
        {
          "name": "stdout",
          "output_type": "stream",
          "text": [
            "\n",
            "Biaya administrasi Anda sebesar, Rp5000.0\n",
            "Saldo Anda saat ini adalah Rp45000.0\n"
          ]
        }
      ],
      "source": [
        "saldo = int(input())\n",
        "administrasi = 0\n",
        "\n",
        "if saldo >= 20000:\n",
        "  administrasi = saldo*0.1\n",
        "  saldo -= administrasi\n",
        "elif saldo >= 60000:\n",
        "  administrasi = saldo*0.05\n",
        "  saldo -= administrasi\n",
        "elif saldo >= 75000:\n",
        "  administrasi = saldo*0.2\n",
        "  saldo -= administrasi\n",
        "else:\n",
        "  saldo -= administrasi\n",
        "\n",
        "print(f'\\nBiaya administrasi Anda sebesar, Rp{administrasi}')\n",
        "print(f'Saldo Anda saat ini adalah Rp{saldo}')"
      ]
    },
    {
      "cell_type": "code",
      "execution_count": null,
      "metadata": {},
      "outputs": [],
      "source": [
        "presensi = float(input('Input presensi student\\t\\t: '))\n",
        "\n",
        "if presensi >= 85:\n",
        "    tugas = float(input('Input latihan student\\t'))\n",
        "    ujian = float(input('Input ujian student\\t'))\n",
        "    nilai = presensi*0.3 + tugas*0.3 + ujian*0.4\n",
        "    if nilai >= 60:\n",
        "        print(f'\\nStudent lulus dengan nilai {nilai}!')\n",
        "    else:\n",
        "        print(f'\\nStudent tidak lulus! Nilai yang didapat adalah {nilai}')\n",
        "else:\n",
        "    print('\\nStudent tidak lulus karena presensi di bawah 85%!')"
      ]
    },
    {
      "cell_type": "code",
      "execution_count": 79,
      "metadata": {},
      "outputs": [
        {
          "name": "stdout",
          "output_type": "stream",
          "text": [
            "Tidak Lulus!\n"
          ]
        }
      ],
      "source": [
        "nilai = int(input())\n",
        "hasil = 'Lulus!' if nilai >=70 else 'Tidak Lulus!'\n",
        "print(hasil)"
      ]
    },
    {
      "cell_type": "code",
      "execution_count": 83,
      "metadata": {},
      "outputs": [
        {
          "name": "stdout",
          "output_type": "stream",
          "text": [
            "Block of Code di eksekusi!\n",
            "2\n",
            "Block of Code di eksekusi!\n",
            "3\n",
            "Block of Code di eksekusi!\n",
            "4\n",
            "Block of Code di eksekusi!\n",
            "5\n",
            "Block of Code di eksekusi!\n",
            "6\n",
            "Block of Code di eksekusi!\n",
            "7\n",
            "Block of Code di eksekusi!\n",
            "8\n",
            "Block of Code di eksekusi!\n",
            "9\n",
            "Block of Code di eksekusi!\n",
            "10\n"
          ]
        }
      ],
      "source": [
        "condition = True\n",
        "\n",
        "while condition<10:\n",
        "  print('Block of Code di eksekusi!')\n",
        "  condition = condition + 1\n",
        "  \n",
        "  print(condition)"
      ]
    },
    {
      "cell_type": "code",
      "execution_count": 81,
      "metadata": {},
      "outputs": [
        {
          "name": "stdout",
          "output_type": "stream",
          "text": [
            "Ulangi selamat condition bernilai True\n",
            "Ulangi selamat condition bernilai True\n",
            "Ulangi selamat condition bernilai True\n",
            "Ulangi selamat condition bernilai True\n",
            "Ulangi selamat condition bernilai True\n",
            "Ulangi selamat condition bernilai True\n",
            "Ulangi selamat condition bernilai True\n",
            "Ulangi selamat condition bernilai True\n",
            "Ulangi selamat condition bernilai True\n",
            "Ulangi selamat condition bernilai True\n",
            "10\n"
          ]
        }
      ],
      "source": [
        "value = 0\n",
        "\n",
        "while value < 10:\n",
        "  print('Ulangi selamat condition bernilai True')\n",
        "  value = value + 1\n",
        "\n",
        "print(value)"
      ]
    },
    {
      "cell_type": "code",
      "execution_count": 84,
      "metadata": {},
      "outputs": [
        {
          "name": "stdout",
          "output_type": "stream",
          "text": [
            "Z\n",
            "e\n",
            "f\n",
            "a\n",
            "n\n",
            "y\n",
            "a\n",
            " \n",
            "W\n",
            "i\n",
            "l\n",
            "l\n",
            "i\n",
            "a\n",
            "m\n",
            "s\n"
          ]
        }
      ],
      "source": [
        "for i in 'Zefanya Williams':\n",
        "  print(i)"
      ]
    },
    {
      "cell_type": "code",
      "execution_count": 85,
      "metadata": {},
      "outputs": [
        {
          "name": "stdout",
          "output_type": "stream",
          "text": [
            "merah jingga kuning hijau biru nila ungu "
          ]
        }
      ],
      "source": [
        "warna = ['merah', 'jingga', 'kuning', 'hijau', 'biru', 'nila', 'ungu']\n",
        "\n",
        "for color in warna:\n",
        "  print(color, end=' ')"
      ]
    },
    {
      "cell_type": "code",
      "execution_count": 86,
      "metadata": {},
      "outputs": [
        {
          "name": "stdout",
          "output_type": "stream",
          "text": [
            "0 1 2 3 4 5 "
          ]
        }
      ],
      "source": [
        "angka = [0, 1, 2, 3, 4, 5]\n",
        "\n",
        "for number in angka:\n",
        "  print(number, end=' ')"
      ]
    },
    {
      "cell_type": "code",
      "execution_count": 88,
      "metadata": {},
      "outputs": [
        {
          "name": "stdout",
          "output_type": "stream",
          "text": [
            "Total nilai\t= 790\n",
            "Rata-rata nilai\t= 79.0\n"
          ]
        }
      ],
      "source": [
        "scores = [90, 80, 70, 60, 75, 85, 82, 90, 100, 58]\n",
        "total_scores = 0\n",
        "\n",
        "for score in scores:\n",
        "    total_scores = total_scores + score\n",
        "\n",
        "rata_rata = total_scores/len(scores)\n",
        "\n",
        "print('Total nilai\\t=', total_scores)\n",
        "print('Rata-rata nilai\\t=', rata_rata)"
      ]
    },
    {
      "cell_type": "code",
      "execution_count": 89,
      "metadata": {},
      "outputs": [
        {
          "name": "stdout",
          "output_type": "stream",
          "text": [
            "Iterasi ke--1\n",
            "Iterasi ke-0\n",
            "Iterasi ke-1\n",
            "Iterasi ke-2\n",
            "Iterasi ke-3\n",
            "Iterasi ke-4\n",
            "Iterasi ke-5\n",
            "Iterasi ke-6\n",
            "Iterasi ke-7\n",
            "Iterasi ke-8\n",
            "Iterasi ke-9\n",
            "Iterasi ke-10\n"
          ]
        }
      ],
      "source": [
        "for i in range(-1, 11):\n",
        "  print(f'Iterasi ke-{i}')"
      ]
    },
    {
      "cell_type": "code",
      "execution_count": 90,
      "metadata": {},
      "outputs": [
        {
          "name": "stdout",
          "output_type": "stream",
          "text": [
            "Iterasi ke--11\n",
            "Iterasi ke--10\n",
            "Iterasi ke--9\n",
            "Iterasi ke--8\n",
            "Iterasi ke--7\n",
            "Iterasi ke--6\n",
            "Iterasi ke--5\n",
            "Iterasi ke--4\n",
            "Iterasi ke--3\n",
            "Iterasi ke--2\n",
            "Iterasi ke--1\n",
            "Iterasi ke-0\n"
          ]
        }
      ],
      "source": [
        "for i in range(-11, 1):\n",
        "  print(f'Iterasi ke-{i}')"
      ]
    },
    {
      "cell_type": "code",
      "execution_count": 106,
      "metadata": {},
      "outputs": [
        {
          "name": "stdout",
          "output_type": "stream",
          "text": [
            "[0, 1, 2, 3, 4, 5, 6, 7, 8, 9]\n"
          ]
        }
      ],
      "source": [
        "for i in range(0, len(scores)):\n",
        "    scores[i]=i\n",
        "    \n",
        "print(scores)"
      ]
    },
    {
      "cell_type": "code",
      "execution_count": 94,
      "metadata": {},
      "outputs": [
        {
          "name": "stdout",
          "output_type": "stream",
          "text": [
            "1 0\t1 1\t1 2\t1 3\t1 4\t1 5\t1 6\t1 7\t1 8\t1 9\t\n",
            "\n",
            "1 0\t1 1\t1 2\t1 3\t1 4\t1 5\t1 6\t1 7\t1 8\t1 9\t\n",
            "\n",
            "1 0\t1 1\t1 2\t1 3\t1 4\t1 5\t1 6\t1 7\t1 8\t1 9\t\n",
            "\n",
            "1 0\t1 1\t1 2\t1 3\t1 4\t1 5\t1 6\t1 7\t1 8\t1 9\t\n",
            "\n",
            "1 0\t1 1\t1 2\t1 3\t1 4\t1 5\t1 6\t1 7\t1 8\t1 9\t\n",
            "\n",
            "1 0\t1 1\t1 2\t1 3\t1 4\t1 5\t1 6\t1 7\t1 8\t1 9\t\n",
            "\n",
            "1 0\t1 1\t1 2\t1 3\t1 4\t1 5\t1 6\t1 7\t1 8\t1 9\t\n",
            "\n",
            "1 0\t1 1\t1 2\t1 3\t1 4\t1 5\t1 6\t1 7\t1 8\t1 9\t\n",
            "\n",
            "1 0\t1 1\t1 2\t1 3\t1 4\t1 5\t1 6\t1 7\t1 8\t1 9\t\n",
            "\n",
            "1 0\t1 1\t1 2\t1 3\t1 4\t1 5\t1 6\t1 7\t1 8\t1 9\t\n",
            "\n"
          ]
        }
      ],
      "source": [
        "for i in range(0, 10): #i = baris\n",
        "  for j in range(0, 10): # j = kolom\n",
        "    print(1, j , end='\\t')\n",
        "  print('\\n')"
      ]
    },
    {
      "cell_type": "code",
      "execution_count": 105,
      "metadata": {},
      "outputs": [
        {
          "name": "stdout",
          "output_type": "stream",
          "text": [
            "719865243"
          ]
        }
      ],
      "source": [
        "import numpy as np\n",
        "\n",
        "data = np.array([[7, 1, 9],\n",
        "                 [8, 6, 5],\n",
        "                 [2, 4, 3]])\n",
        "\n",
        "for baris in data:\n",
        "    for kolom in baris:\n",
        "        print(kolom, end='')"
      ]
    },
    {
      "cell_type": "code",
      "execution_count": 98,
      "metadata": {},
      "outputs": [
        {
          "name": "stdout",
          "output_type": "stream",
          "text": [
            "7 1 9 8 6 5 2 4 3 "
          ]
        }
      ],
      "source": [
        "data = np.array([[7, 1, 9], \n",
        "                 [8, 6, 5], \n",
        "                 [2, 4, 3]])\n",
        "for i in range(0, data.shape[0]): # shape[0] = jumlah baris \n",
        "    for j in range(0, data.shape[1]): # shape [1] = jumlah kolom\n",
        "        print(data[i, j], end=' ')"
      ]
    },
    {
      "cell_type": "code",
      "execution_count": 99,
      "metadata": {},
      "outputs": [
        {
          "name": "stdout",
          "output_type": "stream",
          "text": [
            "[0, 1, 2, 3, 4, 5, 6, 7, 8, 9]\n"
          ]
        }
      ],
      "source": [
        "bilangan = [0, 1, 2, 3, 4, 5, 6, 7, 8, 9]\n",
        "nums = []\n",
        "\n",
        "for bil in bilangan:\n",
        "    nums.append(bil)\n",
        "    \n",
        "print(nums)"
      ]
    },
    {
      "cell_type": "code",
      "execution_count": 100,
      "metadata": {},
      "outputs": [
        {
          "name": "stdout",
          "output_type": "stream",
          "text": [
            "0 1 2 3 4 6 7 8 9 10 11 "
          ]
        }
      ],
      "source": [
        "for i in range(0, 12):\n",
        "  if i == 5:\n",
        "    continue\n",
        "  print(i, end= \" \")"
      ]
    },
    {
      "cell_type": "code",
      "execution_count": 101,
      "metadata": {},
      "outputs": [
        {
          "name": "stdout",
          "output_type": "stream",
          "text": [
            "1 2 3 4 5 6 "
          ]
        }
      ],
      "source": [
        "for i in range(1, 11):\n",
        "  if i == 7:\n",
        "    break\n",
        "  print(i, end=' ')"
      ]
    },
    {
      "cell_type": "code",
      "execution_count": 103,
      "metadata": {},
      "outputs": [
        {
          "name": "stdout",
          "output_type": "stream",
          "text": [
            "data\t\t: [91, 20, 12, 87, 19, 11, 34, 47, 68, 56]\n",
            "data ganjil\t: [91, 87, 19, 11, 47]\n",
            "data genap\t: [20, 12, 34, 68, 56]\n"
          ]
        }
      ],
      "source": [
        "numbers = [91, 20, 12, 87, 19, 11, 34, 47, 68, 56]\n",
        "genap  = []\n",
        "ganjil = []\n",
        "\n",
        "for number in numbers:\n",
        "    if number%2 == 0:\n",
        "        genap.append(number)\n",
        "    else:\n",
        "        ganjil.append(number)\n",
        "        \n",
        "print('data\\t\\t:', numbers)\n",
        "print('data ganjil\\t:', ganjil)\n",
        "print('data genap\\t:', genap)"
      ]
    },
    {
      "cell_type": "code",
      "execution_count": null,
      "metadata": {},
      "outputs": [],
      "source": []
    }
  ],
  "metadata": {
    "colab": {
      "provenance": []
    },
    "kernelspec": {
      "display_name": "Python 3",
      "name": "python3"
    },
    "language_info": {
      "codemirror_mode": {
        "name": "ipython",
        "version": 3
      },
      "file_extension": ".py",
      "mimetype": "text/x-python",
      "name": "python",
      "nbconvert_exporter": "python",
      "pygments_lexer": "ipython3",
      "version": "3.12.0"
    }
  },
  "nbformat": 4,
  "nbformat_minor": 0
}

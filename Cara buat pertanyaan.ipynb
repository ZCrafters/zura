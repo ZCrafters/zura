{
 "cells": [
  {
   "cell_type": "code",
   "execution_count": 2,
   "metadata": {},
   "outputs": [],
   "source": [
    "import random"
   ]
  },
  {
   "cell_type": "code",
   "execution_count": 4,
   "metadata": {},
   "outputs": [
    {
     "name": "stdout",
     "output_type": "stream",
     "text": [
      "Game over! kamu menjawab 5 dari 9 soal klo dibawah lima berarti kamu noob.\n"
     ]
    }
   ],
   "source": [
    "\n",
    "questions = [\n",
    "    {\n",
    "        \"question\": \"apakah warna kentang itu oren?\",\n",
    "        \"answer\": \"salah\",\n",
    "    },\n",
    "    {\n",
    "        \"question\": \"apakah warna kentang itu ijo?\",\n",
    "        \"answer\": \"salah\",\n",
    "    },\n",
    "    {\n",
    "        \"question\": \"apakah warna kentang itu merah?\",\n",
    "        \"answer\": \"salah\",\n",
    "    },\n",
    "    {\n",
    "        \"question\": \"apakah kentang itu termasuk kelamin non binary?\",\n",
    "        \"answer\": \"ya\",\n",
    "    },\n",
    "    {\n",
    "        \"question\": \"kapan kentang ditemukan?\",\n",
    "        \"answer\": \"tidak tahu\",\n",
    "    },\n",
    "    {\n",
    "        \"question\": \"apakah orang yang tidak bisa bermain disebut dengan kentang?\",\n",
    "        \"answer\": \"ya\",\n",
    "    },\n",
    "    {\n",
    "        \"question\": \"apakah anda stress menjawab soal ini?\",\n",
    "        \"answer\": \"ya\",\n",
    "    },\n",
    "    {\n",
    "        \"question\": \"apakah kentang termasuk buah atau tumbuhan atau sayuran?\",\n",
    "        \"answer\": \"sayuran\",\n",
    "    },\n",
    "    {\n",
    "        \"question\": \"apakah kentang agama?\",\n",
    "        \"answer\": \"ya\",\n",
    "    },\n",
    "]\n",
    "\n",
    "def ask_question():\n",
    "    global questions\n",
    "    question_data = questions[random.randint(0, len(questions) - 1)]\n",
    "    question = question_data[\"question\"]\n",
    "    user_answer = input(question)\n",
    "    correct_answer = question_data[\"answer\"]\n",
    "    return user_answer.lower() == correct_answer.lower()\n",
    "\n",
    "def main():\n",
    "    score = 0\n",
    "    remaining_questions = len(questions)\n",
    "    while remaining_questions > 0 and ask_question():\n",
    "        score += 1\n",
    "        remaining_questions -= 1\n",
    "    print(f\"Game over! kamu menjawab {score} dari {len(questions)} soal klo dibawah lima berarti kamu noob.\")\n",
    "\n",
    "if __name__ == \"__main__\":\n",
    "    main()"
   ]
  }
 ],
 "metadata": {
  "kernelspec": {
   "display_name": "Python 3",
   "language": "python",
   "name": "python3"
  },
  "language_info": {
   "codemirror_mode": {
    "name": "ipython",
    "version": 3
   },
   "file_extension": ".py",
   "mimetype": "text/x-python",
   "name": "python",
   "nbconvert_exporter": "python",
   "pygments_lexer": "ipython3",
   "version": "3.12.0"
  }
 },
 "nbformat": 4,
 "nbformat_minor": 2
}
